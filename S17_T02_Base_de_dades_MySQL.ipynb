{
 "cells": [
  {
   "cell_type": "markdown",
   "id": "tested-charleston",
   "metadata": {},
   "source": [
    "# S17 T02: Base de dades MySQL\n",
    "\n",
    "**Descripció**\n",
    "\n",
    "Crear base de dades amb MySQL.\n",
    "\n",
    "## Nivell 1\n",
    "### - Exercici 1\n",
    "\n",
    "Crea una base de dades relacionals senzilla utilitzant MySQL(https://www.mysql.com/) i connecta-la a Python\n",
    "\n",
    "\n"
   ]
  },
  {
   "attachments": {
    "TAREA2.png": {
     "image/png": "[encoded data removed]"
    }
   },
   "cell_type": "markdown",
   "id": "public-survival",
   "metadata": {},
   "source": [
    "Para hacer este ejercicio he creado con la ayuda del workbench de mySQL una base de datos relacional con dos tablas, una con datos de personas y otra con los datos de puestos de trabajo.\n",
    "\n",
    "Aquí se puede ver un esquema ER de la base de datos:\n",
    "\n",
    "![TAREA2.png](attachment:TAREA2.png)\n",
    "\n"
   ]
  },
  {
   "cell_type": "markdown",
   "id": "small-beast",
   "metadata": {},
   "source": [
    "Además he introducido 30 registros en _\"personas\"_ y 20 registros en _\"trabajos\"_.\n",
    "\n",
    "A continuación vamos a hacer una conexión con python y desde el notebook haremos una query y guardaremos su resultado en un dataframe de pandas.\n",
    "\n",
    "Para conectarme al servidor donde tengo la base de datos SQL utilizaré la librería mysql.connector. Podéis consultar la documentación [aquí].\n",
    "\n",
    "[aquí]: https://dev.mysql.com/doc/connector-python/en/"
   ]
  },
  {
   "cell_type": "code",
   "execution_count": 1,
   "id": "talented-casino",
   "metadata": {},
   "outputs": [],
   "source": [
    "# Carga Librerías\n",
    "\n",
    "## Data procesing\n",
    "import pandas as pd\n",
    "import numpy as np\n",
    "\n",
    "%matplotlib inline\n",
    "\n",
    "import matplotlib.pyplot as plt\n",
    "import seaborn as sns\n",
    "\n",
    "## MySQL conexion\n",
    "import mysql.connector\n"
   ]
  },
  {
   "attachments": {
    "flujo.png": {
     "image/png": "[encoded data removed]"
    }
   },
   "cell_type": "markdown",
   "id": "processed-console",
   "metadata": {},
   "source": [
    "El flujo de trabajo será el siguiente:\n",
    "\n",
    "---\n",
    " \n",
    "\n",
    "![flujo.png](attachment:flujo.png)\n",
    "\n",
    "---\n",
    "\n",
    "Los datos de mi servidor son:\n",
    " - host = localhost\n",
    " - base de datos = mydb\n",
    " - user = root\n",
    " - password = c4nionerou\n",
    " "
   ]
  },
  {
   "cell_type": "code",
   "execution_count": 2,
   "id": "municipal-protocol",
   "metadata": {},
   "outputs": [],
   "source": [
    "# Conexión mysql\n",
    "\n",
    "CNX = mysql.connector.connect(host = 'localhost',\n",
    "                              database = 'mydb',\n",
    "                              user = 'root',\n",
    "                              password = 'c4nionerou',)\n"
   ]
  },
  {
   "cell_type": "markdown",
   "id": "color-cruise",
   "metadata": {},
   "source": [
    "El método _connect_ establece la conexión con la base de datos y nos devuelve un objeto."
   ]
  },
  {
   "cell_type": "code",
   "execution_count": 3,
   "id": "dramatic-haiti",
   "metadata": {},
   "outputs": [
    {
     "name": "stdout",
     "output_type": "stream",
     "text": [
      "<mysql.connector.connection_cext.CMySQLConnection object at 0x0000013FBFF78B20>\n"
     ]
    }
   ],
   "source": [
    "print(CNX)"
   ]
  },
  {
   "cell_type": "code",
   "execution_count": 4,
   "id": "civic-version",
   "metadata": {},
   "outputs": [],
   "source": [
    "# Instanciar el cursor\n",
    "\n",
    "mycursor_01 = CNX.cursor()"
   ]
  },
  {
   "cell_type": "markdown",
   "id": "demographic-liabilities",
   "metadata": {},
   "source": [
    "El método _cursor_ genera un objeto MySQLCursor con el que podemos ejecutar una consulta (query). Vamos por ejemplo a seleccionar Nombre, apellidos y edad de la tabla personas."
   ]
  },
  {
   "cell_type": "code",
   "execution_count": 5,
   "id": "human-proxy",
   "metadata": {},
   "outputs": [],
   "source": [
    "# Query - Todos los nombres, apellido y edad de la tabla personas\n",
    "query = '''SELECT Nombre, Apellido, Edad \n",
    "           FROM Personas'''\n",
    "\n",
    "mycursor_01.execute(query)"
   ]
  },
  {
   "cell_type": "markdown",
   "id": "wound-luxembourg",
   "metadata": {},
   "source": [
    "Para ver los resultados de la query podemos usar diferentes métodos, fetchone, fetchmany, fetchall..."
   ]
  },
  {
   "cell_type": "code",
   "execution_count": 6,
   "id": "owned-galaxy",
   "metadata": {},
   "outputs": [
    {
     "data": {
      "text/plain": [
       "[('Antonio', 'Pérez', 30),\n",
       " ('Luisa', 'Cortes', 42),\n",
       " ('Ana', 'Fernández', 26),\n",
       " ('Eduardo', 'De la Casa', 23),\n",
       " ('Fernando', 'Martínez', 28),\n",
       " ('Francisco', 'Mandattori', 35),\n",
       " ('José', 'Fernández', 38),\n",
       " ('Adolfo', 'Jiménez', 46),\n",
       " ('Josep', 'Puig', 41),\n",
       " ('Marcos', 'Cuadros', 24),\n",
       " ('María', 'Del Señor', 37),\n",
       " ('Eloisa', 'Campanilla', 18),\n",
       " ('Clara', 'Campoamor', 50),\n",
       " ('Esther', 'Cuenca', 33),\n",
       " ('Adela', 'Mar', 36),\n",
       " ('Javier', 'Pino', 34),\n",
       " ('Antonio', 'Van der Vaar', 47),\n",
       " ('Fernando', 'Viejo', 18),\n",
       " ('Luis', 'Nuñez', 55),\n",
       " ('Felipe', 'González', 68),\n",
       " ('Aurelio', 'Buendía', 70),\n",
       " ('Jorge', 'Borgoña', 44),\n",
       " ('Ana', 'Cuesta', 26),\n",
       " ('Emma', 'Watson', 30),\n",
       " ('María', 'Abad', 34),\n",
       " ('Hugo', 'Boss', 38),\n",
       " ('Adela', 'Galletas', 32),\n",
       " ('Antonio', 'Casamayor', 34),\n",
       " ('Francisco', 'Del Campo', 35),\n",
       " ('Luisa', 'Pino', 29)]"
      ]
     },
     "execution_count": 6,
     "metadata": {},
     "output_type": "execute_result"
    }
   ],
   "source": [
    "# Mostrar todos los resultados\n",
    "\n",
    "mycursor_01.fetchall()"
   ]
  },
  {
   "cell_type": "code",
   "execution_count": 7,
   "id": "arabic-validity",
   "metadata": {},
   "outputs": [
    {
     "data": {
      "text/plain": [
       "True"
      ]
     },
     "execution_count": 7,
     "metadata": {},
     "output_type": "execute_result"
    }
   ],
   "source": [
    "# Cerramos el cursor\n",
    "\n",
    "mycursor_01.close()"
   ]
  },
  {
   "cell_type": "markdown",
   "id": "informed-dress",
   "metadata": {},
   "source": [
    "Vamos a crear ahora un cursor que nos extraiga el nombre de los campos. Para ello le doy el valor **True** al parámetro dictionary del nuevo cursor."
   ]
  },
  {
   "cell_type": "code",
   "execution_count": 8,
   "id": "alien-parish",
   "metadata": {},
   "outputs": [],
   "source": [
    "# Instanciar un cursor con dictionary = True\n",
    "\n",
    "mycursor_02 = CNX.cursor(dictionary=True)"
   ]
  },
  {
   "cell_type": "code",
   "execution_count": 9,
   "id": "broken-eleven",
   "metadata": {},
   "outputs": [],
   "source": [
    "# Query - Selecciona Nombre, apellido y edad de todas las personas.\n",
    "\n",
    "query = '''SELECT Nombre, Apellido, Edad \n",
    "           FROM Personas'''\n",
    "\n",
    "mycursor_02.execute(query)"
   ]
  },
  {
   "cell_type": "code",
   "execution_count": 10,
   "id": "north-translator",
   "metadata": {},
   "outputs": [
    {
     "data": {
      "text/plain": [
       "[{'Nombre': 'Antonio', 'Apellido': 'Pérez', 'Edad': 30},\n",
       " {'Nombre': 'Luisa', 'Apellido': 'Cortes', 'Edad': 42},\n",
       " {'Nombre': 'Ana', 'Apellido': 'Fernández', 'Edad': 26},\n",
       " {'Nombre': 'Eduardo', 'Apellido': 'De la Casa', 'Edad': 23},\n",
       " {'Nombre': 'Fernando', 'Apellido': 'Martínez', 'Edad': 28}]"
      ]
     },
     "execution_count": 10,
     "metadata": {},
     "output_type": "execute_result"
    }
   ],
   "source": [
    "# Mostrar los 5 primeros resultados\n",
    "\n",
    "mycursor_02.fetchmany(size=5)"
   ]
  },
  {
   "cell_type": "code",
   "execution_count": 11,
   "id": "thick-attachment",
   "metadata": {},
   "outputs": [
    {
     "data": {
      "text/plain": [
       "True"
      ]
     },
     "execution_count": 11,
     "metadata": {},
     "output_type": "execute_result"
    }
   ],
   "source": [
    "# Tenemos que extraer todas las filas antes de seguir trabajando con la misma conexión\n",
    "mycursor_02.fetchall()\n",
    "\n",
    "mycursor_02.close()"
   ]
  },
  {
   "cell_type": "code",
   "execution_count": 12,
   "id": "incorporate-reflection",
   "metadata": {},
   "outputs": [],
   "source": [
    "# Cierra la conexión\n",
    "\n",
    "CNX.close()"
   ]
  },
  {
   "cell_type": "markdown",
   "id": "indie-voltage",
   "metadata": {},
   "source": [
    "\n",
    "## Nivell 2\n",
    "### - Exercici 2\n",
    "\n",
    "Mostra que pots carregar algunes consultes senzilles a un Pandas Dataframe.\n",
    "\n",
    "\n"
   ]
  },
  {
   "cell_type": "code",
   "execution_count": 13,
   "id": "impressed-secretary",
   "metadata": {},
   "outputs": [],
   "source": [
    "# Conexión mysql\n",
    "\n",
    "CNX = mysql.connector.connect(host = 'localhost',\n",
    "                              database = 'mydb',\n",
    "                              user = 'root',\n",
    "                              password = 'c4nionerou',)\n"
   ]
  },
  {
   "cell_type": "code",
   "execution_count": 14,
   "id": "legendary-palace",
   "metadata": {},
   "outputs": [],
   "source": [
    "# Instanciar un cursor con dictionary = True\n",
    "\n",
    "mycursor_03 = CNX.cursor(dictionary=True)"
   ]
  },
  {
   "cell_type": "code",
   "execution_count": 15,
   "id": "incorporate-thompson",
   "metadata": {},
   "outputs": [],
   "source": [
    "# Join de las tablas para obtener nombre, edad, pais y salario\n",
    "\n",
    "query = '''SELECT P.Nombre, P.Apellido, P.Edad, T.Pais, T.Salario\n",
    "            FROM Personas AS P\n",
    "            INNER JOIN Trabajos AS T \n",
    "            ON P.idTrabajo = T.idTrabajo\n",
    "            '''"
   ]
  },
  {
   "cell_type": "code",
   "execution_count": 16,
   "id": "decreased-sierra",
   "metadata": {},
   "outputs": [],
   "source": [
    "# Ejecutar consulta\n",
    "\n",
    "mycursor_03.execute(query)"
   ]
  },
  {
   "cell_type": "code",
   "execution_count": 17,
   "id": "accepting-disclosure",
   "metadata": {},
   "outputs": [
    {
     "data": {
      "text/plain": [
       "[{'Nombre': 'Antonio',\n",
       "  'Apellido': 'Pérez',\n",
       "  'Edad': 30,\n",
       "  'Pais': 'España',\n",
       "  'Salario': 24000},\n",
       " {'Nombre': 'Adolfo',\n",
       "  'Apellido': 'Jiménez',\n",
       "  'Edad': 46,\n",
       "  'Pais': 'España',\n",
       "  'Salario': 24000},\n",
       " {'Nombre': 'José',\n",
       "  'Apellido': 'Fernández',\n",
       "  'Edad': 38,\n",
       "  'Pais': 'España',\n",
       "  'Salario': 28000},\n",
       " {'Nombre': 'Josep',\n",
       "  'Apellido': 'Puig',\n",
       "  'Edad': 41,\n",
       "  'Pais': 'España',\n",
       "  'Salario': 28000},\n",
       " {'Nombre': 'Luisa',\n",
       "  'Apellido': 'Cortes',\n",
       "  'Edad': 42,\n",
       "  'Pais': 'España',\n",
       "  'Salario': 30000},\n",
       " {'Nombre': 'Marcos',\n",
       "  'Apellido': 'Cuadros',\n",
       "  'Edad': 24,\n",
       "  'Pais': 'España',\n",
       "  'Salario': 30000},\n",
       " {'Nombre': 'Antonio',\n",
       "  'Apellido': 'Van der Vaar',\n",
       "  'Edad': 47,\n",
       "  'Pais': 'España',\n",
       "  'Salario': 29000},\n",
       " {'Nombre': 'María',\n",
       "  'Apellido': 'Del Señor',\n",
       "  'Edad': 37,\n",
       "  'Pais': 'Portugal',\n",
       "  'Salario': 24000},\n",
       " {'Nombre': 'Eloisa',\n",
       "  'Apellido': 'Campanilla',\n",
       "  'Edad': 18,\n",
       "  'Pais': 'España',\n",
       "  'Salario': 25000},\n",
       " {'Nombre': 'Fernando',\n",
       "  'Apellido': 'Viejo',\n",
       "  'Edad': 18,\n",
       "  'Pais': 'España',\n",
       "  'Salario': 25000},\n",
       " {'Nombre': 'Clara',\n",
       "  'Apellido': 'Campoamor',\n",
       "  'Edad': 50,\n",
       "  'Pais': 'España',\n",
       "  'Salario': 20000},\n",
       " {'Nombre': 'Luis',\n",
       "  'Apellido': 'Nuñez',\n",
       "  'Edad': 55,\n",
       "  'Pais': 'España',\n",
       "  'Salario': 20000},\n",
       " {'Nombre': 'Felipe',\n",
       "  'Apellido': 'González',\n",
       "  'Edad': 68,\n",
       "  'Pais': 'Escaña',\n",
       "  'Salario': 24000},\n",
       " {'Nombre': 'Aurelio',\n",
       "  'Apellido': 'Buendía',\n",
       "  'Edad': 70,\n",
       "  'Pais': 'Francia',\n",
       "  'Salario': 34000},\n",
       " {'Nombre': 'Luisa',\n",
       "  'Apellido': 'Pino',\n",
       "  'Edad': 29,\n",
       "  'Pais': 'Francia',\n",
       "  'Salario': 34000},\n",
       " {'Nombre': 'Adela',\n",
       "  'Apellido': 'Mar',\n",
       "  'Edad': 36,\n",
       "  'Pais': 'Portugal',\n",
       "  'Salario': 27000},\n",
       " {'Nombre': 'Esther',\n",
       "  'Apellido': 'Cuenca',\n",
       "  'Edad': 33,\n",
       "  'Pais': 'España',\n",
       "  'Salario': 28500},\n",
       " {'Nombre': 'Ana',\n",
       "  'Apellido': 'Fernández',\n",
       "  'Edad': 26,\n",
       "  'Pais': 'Francia',\n",
       "  'Salario': 39000},\n",
       " {'Nombre': 'Fernando',\n",
       "  'Apellido': 'Martínez',\n",
       "  'Edad': 28,\n",
       "  'Pais': 'Francia',\n",
       "  'Salario': 39000},\n",
       " {'Nombre': 'Jorge',\n",
       "  'Apellido': 'Borgoña',\n",
       "  'Edad': 44,\n",
       "  'Pais': 'Portugal',\n",
       "  'Salario': 35000},\n",
       " {'Nombre': 'Eduardo',\n",
       "  'Apellido': 'De la Casa',\n",
       "  'Edad': 23,\n",
       "  'Pais': 'España',\n",
       "  'Salario': 32000},\n",
       " {'Nombre': 'Ana',\n",
       "  'Apellido': 'Cuesta',\n",
       "  'Edad': 26,\n",
       "  'Pais': 'España',\n",
       "  'Salario': 32000},\n",
       " {'Nombre': 'Emma',\n",
       "  'Apellido': 'Watson',\n",
       "  'Edad': 30,\n",
       "  'Pais': 'España',\n",
       "  'Salario': 28000},\n",
       " {'Nombre': 'Francisco',\n",
       "  'Apellido': 'Mandattori',\n",
       "  'Edad': 35,\n",
       "  'Pais': 'España',\n",
       "  'Salario': 22000},\n",
       " {'Nombre': 'María',\n",
       "  'Apellido': 'Abad',\n",
       "  'Edad': 34,\n",
       "  'Pais': 'Francia',\n",
       "  'Salario': 30000},\n",
       " {'Nombre': 'Francisco',\n",
       "  'Apellido': 'Del Campo',\n",
       "  'Edad': 35,\n",
       "  'Pais': 'Francia',\n",
       "  'Salario': 30000},\n",
       " {'Nombre': 'Hugo',\n",
       "  'Apellido': 'Boss',\n",
       "  'Edad': 38,\n",
       "  'Pais': 'España',\n",
       "  'Salario': 22000},\n",
       " {'Nombre': 'Adela',\n",
       "  'Apellido': 'Galletas',\n",
       "  'Edad': 32,\n",
       "  'Pais': 'Portugal',\n",
       "  'Salario': 26000},\n",
       " {'Nombre': 'Javier',\n",
       "  'Apellido': 'Pino',\n",
       "  'Edad': 34,\n",
       "  'Pais': 'Francia',\n",
       "  'Salario': 30000},\n",
       " {'Nombre': 'Antonio',\n",
       "  'Apellido': 'Casamayor',\n",
       "  'Edad': 34,\n",
       "  'Pais': 'Francia',\n",
       "  'Salario': 30000}]"
      ]
     },
     "execution_count": 17,
     "metadata": {},
     "output_type": "execute_result"
    }
   ],
   "source": [
    "# Extraer consulta del cursor\n",
    "\n",
    "mycursor_03.fetchall()"
   ]
  },
  {
   "cell_type": "markdown",
   "id": "another-medicine",
   "metadata": {},
   "source": [
    "Podríamos cargar varias querys y ver los resultados."
   ]
  },
  {
   "cell_type": "code",
   "execution_count": 18,
   "id": "threaded-maldives",
   "metadata": {},
   "outputs": [],
   "source": [
    "# Query 1 - Personas mayores de 30 años\n",
    "\n",
    "mayores_30 = '''SELECT Nombre, Apellido\n",
    "                FROM Personas\n",
    "                WHERE Edad >= 30\n",
    "                '''\n",
    "\n",
    "# Query 2 - Número de Personas mayores de 30 años\n",
    "\n",
    "total_mayores_30 = '''SELECT COUNT(*) AS Mayores_de_30\n",
    "                      FROM Personas\n",
    "                      WHERE Edad >= 30\n",
    "                      '''\n",
    "\n",
    "# Salario medio por país\n",
    "\n",
    "Salario_medio_pais =  '''SELECT Pais, AVG(Salario) AS Salario_Medio  \n",
    "                        FROM Trabajos\n",
    "                        GROUP BY Pais\n",
    "                        ORDER BY Salario_Medio DESC\n",
    "                        '''\n",
    "\n",
    "\n"
   ]
  },
  {
   "cell_type": "code",
   "execution_count": 19,
   "id": "published-waterproof",
   "metadata": {},
   "outputs": [],
   "source": [
    "# Personas mayores de 30 años\n",
    "\n",
    "mycursor_03.execute(mayores_30)"
   ]
  },
  {
   "cell_type": "code",
   "execution_count": 20,
   "id": "worse-dylan",
   "metadata": {},
   "outputs": [
    {
     "data": {
      "text/plain": [
       "[{'Nombre': 'Antonio', 'Apellido': 'Pérez'},\n",
       " {'Nombre': 'Luisa', 'Apellido': 'Cortes'},\n",
       " {'Nombre': 'Francisco', 'Apellido': 'Mandattori'},\n",
       " {'Nombre': 'José', 'Apellido': 'Fernández'},\n",
       " {'Nombre': 'Adolfo', 'Apellido': 'Jiménez'},\n",
       " {'Nombre': 'Josep', 'Apellido': 'Puig'},\n",
       " {'Nombre': 'María', 'Apellido': 'Del Señor'},\n",
       " {'Nombre': 'Clara', 'Apellido': 'Campoamor'},\n",
       " {'Nombre': 'Esther', 'Apellido': 'Cuenca'},\n",
       " {'Nombre': 'Adela', 'Apellido': 'Mar'},\n",
       " {'Nombre': 'Javier', 'Apellido': 'Pino'},\n",
       " {'Nombre': 'Antonio', 'Apellido': 'Van der Vaar'},\n",
       " {'Nombre': 'Luis', 'Apellido': 'Nuñez'},\n",
       " {'Nombre': 'Felipe', 'Apellido': 'González'},\n",
       " {'Nombre': 'Aurelio', 'Apellido': 'Buendía'},\n",
       " {'Nombre': 'Jorge', 'Apellido': 'Borgoña'},\n",
       " {'Nombre': 'Emma', 'Apellido': 'Watson'},\n",
       " {'Nombre': 'María', 'Apellido': 'Abad'},\n",
       " {'Nombre': 'Hugo', 'Apellido': 'Boss'},\n",
       " {'Nombre': 'Adela', 'Apellido': 'Galletas'},\n",
       " {'Nombre': 'Antonio', 'Apellido': 'Casamayor'},\n",
       " {'Nombre': 'Francisco', 'Apellido': 'Del Campo'}]"
      ]
     },
     "execution_count": 20,
     "metadata": {},
     "output_type": "execute_result"
    }
   ],
   "source": [
    "mycursor_03.fetchall()"
   ]
  },
  {
   "cell_type": "code",
   "execution_count": 21,
   "id": "corrected-compromise",
   "metadata": {},
   "outputs": [],
   "source": [
    "# Total de personas mayores\n",
    "\n",
    "mycursor_03.execute(total_mayores_30)"
   ]
  },
  {
   "cell_type": "code",
   "execution_count": 22,
   "id": "statewide-basin",
   "metadata": {},
   "outputs": [
    {
     "data": {
      "text/plain": [
       "[{'Mayores_de_30': 22}]"
      ]
     },
     "execution_count": 22,
     "metadata": {},
     "output_type": "execute_result"
    }
   ],
   "source": [
    "mycursor_03.fetchall()"
   ]
  },
  {
   "cell_type": "code",
   "execution_count": 23,
   "id": "durable-express",
   "metadata": {},
   "outputs": [
    {
     "data": {
      "text/plain": [
       "[{'Pais': 'Francia', 'Salario_Medio': Decimal('33250.0000')},\n",
       " {'Pais': 'Portugal', 'Salario_Medio': Decimal('28000.0000')},\n",
       " {'Pais': 'España', 'Salario_Medio': Decimal('26227.2727')},\n",
       " {'Pais': 'Escaña', 'Salario_Medio': Decimal('24000.0000')}]"
      ]
     },
     "execution_count": 23,
     "metadata": {},
     "output_type": "execute_result"
    }
   ],
   "source": [
    "# Salario medio por país\n",
    "\n",
    "mycursor_03.execute(Salario_medio_pais)\n",
    "mycursor_03.fetchall()"
   ]
  },
  {
   "cell_type": "markdown",
   "id": "rising-setting",
   "metadata": {},
   "source": [
    "Ups, hay una errata en los nombres de los países, alguien escribió Escaña en Vesde España, vamos a corregirlo con una sentencia UPDATE."
   ]
  },
  {
   "cell_type": "code",
   "execution_count": 24,
   "id": "insured-lodging",
   "metadata": {},
   "outputs": [],
   "source": [
    "# Update para corregir valor Pais erróneo\n",
    "\n",
    "correcion = '''UPDATE Trabajos\n",
    "               SET Pais = 'España'\n",
    "               WHERE Pais = 'Escaña'\n",
    "               '''"
   ]
  },
  {
   "cell_type": "code",
   "execution_count": 25,
   "id": "funky-secretary",
   "metadata": {},
   "outputs": [
    {
     "data": {
      "text/plain": [
       "[]"
      ]
     },
     "execution_count": 25,
     "metadata": {},
     "output_type": "execute_result"
    }
   ],
   "source": [
    "mycursor_03.execute(correcion)\n",
    "mycursor_03.fetchall()"
   ]
  },
  {
   "cell_type": "code",
   "execution_count": 26,
   "id": "focused-option",
   "metadata": {},
   "outputs": [
    {
     "data": {
      "text/plain": [
       "[{'Pais': 'Francia', 'Salario_Medio': Decimal('33250.0000')},\n",
       " {'Pais': 'Portugal', 'Salario_Medio': Decimal('28000.0000')},\n",
       " {'Pais': 'España', 'Salario_Medio': Decimal('26041.6667')}]"
      ]
     },
     "execution_count": 26,
     "metadata": {},
     "output_type": "execute_result"
    }
   ],
   "source": [
    "# Vuelvo a ejecutar la consulta de salario medio por pais\n",
    "\n",
    "mycursor_03.execute(Salario_medio_pais)\n",
    "mycursor_03.fetchall()"
   ]
  },
  {
   "cell_type": "markdown",
   "id": "pleased-mounting",
   "metadata": {},
   "source": [
    "Voy a probar a ejecutar una sub-query para encountrar el salario medio de trabajadores mayores de 30 por país."
   ]
  },
  {
   "cell_type": "code",
   "execution_count": 27,
   "id": "personalized-roommate",
   "metadata": {},
   "outputs": [],
   "source": [
    "# Salario medio de los mayores de 30 por país\n",
    "\n",
    "Salario_medio_30 =  '''SELECT Pais, AVG(Salario) AS Salario_Medio_30 \n",
    "                        FROM Trabajos\n",
    "                        WHERE idTrabajo IN (SELECT idTrabajo\n",
    "                                               FROM Personas\n",
    "                                               WHERE Edad >= 30)\n",
    "                        GROUP BY Pais\n",
    "                        ORDER BY Salario_Medio_30 DESC\n",
    "                        '''"
   ]
  },
  {
   "cell_type": "code",
   "execution_count": 28,
   "id": "engaged-corpus",
   "metadata": {},
   "outputs": [
    {
     "data": {
      "text/plain": [
       "[{'Pais': 'Francia', 'Salario_Medio_30': Decimal('31333.3333')},\n",
       " {'Pais': 'Portugal', 'Salario_Medio_30': Decimal('28000.0000')},\n",
       " {'Pais': 'España', 'Salario_Medio_30': Decimal('25550.0000')}]"
      ]
     },
     "execution_count": 28,
     "metadata": {},
     "output_type": "execute_result"
    }
   ],
   "source": [
    "mycursor_03.execute(Salario_medio_30)\n",
    "mycursor_03.fetchall()"
   ]
  },
  {
   "cell_type": "markdown",
   "id": "cleared-sponsorship",
   "metadata": {},
   "source": [
    "Para terminar el ejercicio, voy a generar una consulta que me devuelva una tabla con IdPersona, Sexo, Edad, Puesto y País y lo guardaré en un dataframe llamado datos_empleo."
   ]
  },
  {
   "cell_type": "code",
   "execution_count": 29,
   "id": "alpha-buffer",
   "metadata": {},
   "outputs": [],
   "source": [
    "query_empleos = '''SELECT P.idPersonas, P.Sexo, P.Edad,T.Puesto, T.Pais, T.Salario\n",
    "                    FROM Personas AS P\n",
    "                    INNER JOIN Trabajos AS T \n",
    "                    ON P.idTrabajo = T.idTrabajo\n",
    "                '''"
   ]
  },
  {
   "cell_type": "code",
   "execution_count": 30,
   "id": "informed-material",
   "metadata": {},
   "outputs": [
    {
     "data": {
      "text/html": [
       "<div>\n",
       "<style scoped>\n",
       "    .dataframe tbody tr th:only-of-type {\n",
       "        vertical-align: middle;\n",
       "    }\n",
       "\n",
       "    .dataframe tbody tr th {\n",
       "        vertical-align: top;\n",
       "    }\n",
       "\n",
       "    .dataframe thead th {\n",
       "        text-align: right;\n",
       "    }\n",
       "</style>\n",
       "<table border=\"1\" class=\"dataframe\">\n",
       "  <thead>\n",
       "    <tr style=\"text-align: right;\">\n",
       "      <th></th>\n",
       "      <th>idPersonas</th>\n",
       "      <th>Sexo</th>\n",
       "      <th>Edad</th>\n",
       "      <th>Puesto</th>\n",
       "      <th>Pais</th>\n",
       "      <th>Salario</th>\n",
       "    </tr>\n",
       "  </thead>\n",
       "  <tbody>\n",
       "    <tr>\n",
       "      <th>0</th>\n",
       "      <td>1</td>\n",
       "      <td>Hombre</td>\n",
       "      <td>30</td>\n",
       "      <td>Profesor</td>\n",
       "      <td>España</td>\n",
       "      <td>24000</td>\n",
       "    </tr>\n",
       "    <tr>\n",
       "      <th>1</th>\n",
       "      <td>8</td>\n",
       "      <td>Hombre</td>\n",
       "      <td>46</td>\n",
       "      <td>Profesor</td>\n",
       "      <td>España</td>\n",
       "      <td>24000</td>\n",
       "    </tr>\n",
       "    <tr>\n",
       "      <th>2</th>\n",
       "      <td>7</td>\n",
       "      <td>Hombre</td>\n",
       "      <td>38</td>\n",
       "      <td>Profesor</td>\n",
       "      <td>España</td>\n",
       "      <td>28000</td>\n",
       "    </tr>\n",
       "    <tr>\n",
       "      <th>3</th>\n",
       "      <td>9</td>\n",
       "      <td>Hombre</td>\n",
       "      <td>41</td>\n",
       "      <td>Profesor</td>\n",
       "      <td>España</td>\n",
       "      <td>28000</td>\n",
       "    </tr>\n",
       "    <tr>\n",
       "      <th>4</th>\n",
       "      <td>2</td>\n",
       "      <td>Mujer</td>\n",
       "      <td>42</td>\n",
       "      <td>Médico</td>\n",
       "      <td>España</td>\n",
       "      <td>30000</td>\n",
       "    </tr>\n",
       "    <tr>\n",
       "      <th>5</th>\n",
       "      <td>10</td>\n",
       "      <td>Hombre</td>\n",
       "      <td>24</td>\n",
       "      <td>Médico</td>\n",
       "      <td>España</td>\n",
       "      <td>30000</td>\n",
       "    </tr>\n",
       "    <tr>\n",
       "      <th>6</th>\n",
       "      <td>17</td>\n",
       "      <td>Hombre</td>\n",
       "      <td>47</td>\n",
       "      <td>Médico</td>\n",
       "      <td>España</td>\n",
       "      <td>29000</td>\n",
       "    </tr>\n",
       "    <tr>\n",
       "      <th>7</th>\n",
       "      <td>11</td>\n",
       "      <td>Mujer</td>\n",
       "      <td>37</td>\n",
       "      <td>Enfermero</td>\n",
       "      <td>Portugal</td>\n",
       "      <td>24000</td>\n",
       "    </tr>\n",
       "    <tr>\n",
       "      <th>8</th>\n",
       "      <td>12</td>\n",
       "      <td>Mujer</td>\n",
       "      <td>18</td>\n",
       "      <td>Enfermero</td>\n",
       "      <td>España</td>\n",
       "      <td>25000</td>\n",
       "    </tr>\n",
       "    <tr>\n",
       "      <th>9</th>\n",
       "      <td>18</td>\n",
       "      <td>Hombre</td>\n",
       "      <td>18</td>\n",
       "      <td>Enfermero</td>\n",
       "      <td>España</td>\n",
       "      <td>25000</td>\n",
       "    </tr>\n",
       "    <tr>\n",
       "      <th>10</th>\n",
       "      <td>13</td>\n",
       "      <td>Mujer</td>\n",
       "      <td>50</td>\n",
       "      <td>Bombero</td>\n",
       "      <td>España</td>\n",
       "      <td>20000</td>\n",
       "    </tr>\n",
       "    <tr>\n",
       "      <th>11</th>\n",
       "      <td>19</td>\n",
       "      <td>Hombre</td>\n",
       "      <td>55</td>\n",
       "      <td>Bombero</td>\n",
       "      <td>España</td>\n",
       "      <td>20000</td>\n",
       "    </tr>\n",
       "    <tr>\n",
       "      <th>12</th>\n",
       "      <td>20</td>\n",
       "      <td>Hombre</td>\n",
       "      <td>68</td>\n",
       "      <td>Bombero</td>\n",
       "      <td>España</td>\n",
       "      <td>24000</td>\n",
       "    </tr>\n",
       "    <tr>\n",
       "      <th>13</th>\n",
       "      <td>21</td>\n",
       "      <td>Hombre</td>\n",
       "      <td>70</td>\n",
       "      <td>Profesor</td>\n",
       "      <td>Francia</td>\n",
       "      <td>34000</td>\n",
       "    </tr>\n",
       "    <tr>\n",
       "      <th>14</th>\n",
       "      <td>30</td>\n",
       "      <td>Mujer</td>\n",
       "      <td>29</td>\n",
       "      <td>Profesor</td>\n",
       "      <td>Francia</td>\n",
       "      <td>34000</td>\n",
       "    </tr>\n",
       "    <tr>\n",
       "      <th>15</th>\n",
       "      <td>15</td>\n",
       "      <td>Mujer</td>\n",
       "      <td>36</td>\n",
       "      <td>Profesor</td>\n",
       "      <td>Portugal</td>\n",
       "      <td>27000</td>\n",
       "    </tr>\n",
       "    <tr>\n",
       "      <th>16</th>\n",
       "      <td>14</td>\n",
       "      <td>Mujer</td>\n",
       "      <td>33</td>\n",
       "      <td>Profesor</td>\n",
       "      <td>España</td>\n",
       "      <td>28500</td>\n",
       "    </tr>\n",
       "    <tr>\n",
       "      <th>17</th>\n",
       "      <td>3</td>\n",
       "      <td>Mujer</td>\n",
       "      <td>26</td>\n",
       "      <td>Médico</td>\n",
       "      <td>Francia</td>\n",
       "      <td>39000</td>\n",
       "    </tr>\n",
       "    <tr>\n",
       "      <th>18</th>\n",
       "      <td>5</td>\n",
       "      <td>Hombre</td>\n",
       "      <td>28</td>\n",
       "      <td>Médico</td>\n",
       "      <td>Francia</td>\n",
       "      <td>39000</td>\n",
       "    </tr>\n",
       "    <tr>\n",
       "      <th>19</th>\n",
       "      <td>22</td>\n",
       "      <td>Hombre</td>\n",
       "      <td>44</td>\n",
       "      <td>Médico</td>\n",
       "      <td>Portugal</td>\n",
       "      <td>35000</td>\n",
       "    </tr>\n",
       "    <tr>\n",
       "      <th>20</th>\n",
       "      <td>4</td>\n",
       "      <td>Hombre</td>\n",
       "      <td>23</td>\n",
       "      <td>Médico</td>\n",
       "      <td>España</td>\n",
       "      <td>32000</td>\n",
       "    </tr>\n",
       "    <tr>\n",
       "      <th>21</th>\n",
       "      <td>23</td>\n",
       "      <td>Mujer</td>\n",
       "      <td>26</td>\n",
       "      <td>Médico</td>\n",
       "      <td>España</td>\n",
       "      <td>32000</td>\n",
       "    </tr>\n",
       "    <tr>\n",
       "      <th>22</th>\n",
       "      <td>24</td>\n",
       "      <td>Mujer</td>\n",
       "      <td>30</td>\n",
       "      <td>Enfermero</td>\n",
       "      <td>España</td>\n",
       "      <td>28000</td>\n",
       "    </tr>\n",
       "    <tr>\n",
       "      <th>23</th>\n",
       "      <td>6</td>\n",
       "      <td>Hombre</td>\n",
       "      <td>35</td>\n",
       "      <td>Enfermero</td>\n",
       "      <td>España</td>\n",
       "      <td>22000</td>\n",
       "    </tr>\n",
       "    <tr>\n",
       "      <th>24</th>\n",
       "      <td>25</td>\n",
       "      <td>Mujer</td>\n",
       "      <td>34</td>\n",
       "      <td>Enfermero</td>\n",
       "      <td>Francia</td>\n",
       "      <td>30000</td>\n",
       "    </tr>\n",
       "    <tr>\n",
       "      <th>25</th>\n",
       "      <td>29</td>\n",
       "      <td>Hombre</td>\n",
       "      <td>35</td>\n",
       "      <td>Enfermero</td>\n",
       "      <td>Francia</td>\n",
       "      <td>30000</td>\n",
       "    </tr>\n",
       "    <tr>\n",
       "      <th>26</th>\n",
       "      <td>26</td>\n",
       "      <td>Hombre</td>\n",
       "      <td>38</td>\n",
       "      <td>Bombero</td>\n",
       "      <td>España</td>\n",
       "      <td>22000</td>\n",
       "    </tr>\n",
       "    <tr>\n",
       "      <th>27</th>\n",
       "      <td>27</td>\n",
       "      <td>Mujer</td>\n",
       "      <td>32</td>\n",
       "      <td>Bombero</td>\n",
       "      <td>Portugal</td>\n",
       "      <td>26000</td>\n",
       "    </tr>\n",
       "    <tr>\n",
       "      <th>28</th>\n",
       "      <td>16</td>\n",
       "      <td>Hombre</td>\n",
       "      <td>34</td>\n",
       "      <td>Bombero</td>\n",
       "      <td>Francia</td>\n",
       "      <td>30000</td>\n",
       "    </tr>\n",
       "    <tr>\n",
       "      <th>29</th>\n",
       "      <td>28</td>\n",
       "      <td>Hombre</td>\n",
       "      <td>34</td>\n",
       "      <td>Bombero</td>\n",
       "      <td>Francia</td>\n",
       "      <td>30000</td>\n",
       "    </tr>\n",
       "  </tbody>\n",
       "</table>\n",
       "</div>"
      ],
      "text/plain": [
       "    idPersonas    Sexo  Edad     Puesto      Pais  Salario\n",
       "0            1  Hombre    30   Profesor    España    24000\n",
       "1            8  Hombre    46   Profesor    España    24000\n",
       "2            7  Hombre    38   Profesor    España    28000\n",
       "3            9  Hombre    41   Profesor    España    28000\n",
       "4            2   Mujer    42     Médico    España    30000\n",
       "5           10  Hombre    24     Médico    España    30000\n",
       "6           17  Hombre    47     Médico    España    29000\n",
       "7           11   Mujer    37  Enfermero  Portugal    24000\n",
       "8           12   Mujer    18  Enfermero    España    25000\n",
       "9           18  Hombre    18  Enfermero    España    25000\n",
       "10          13   Mujer    50    Bombero    España    20000\n",
       "11          19  Hombre    55    Bombero    España    20000\n",
       "12          20  Hombre    68    Bombero    España    24000\n",
       "13          21  Hombre    70   Profesor   Francia    34000\n",
       "14          30   Mujer    29   Profesor   Francia    34000\n",
       "15          15   Mujer    36   Profesor  Portugal    27000\n",
       "16          14   Mujer    33   Profesor    España    28500\n",
       "17           3   Mujer    26     Médico   Francia    39000\n",
       "18           5  Hombre    28     Médico   Francia    39000\n",
       "19          22  Hombre    44     Médico  Portugal    35000\n",
       "20           4  Hombre    23     Médico    España    32000\n",
       "21          23   Mujer    26     Médico    España    32000\n",
       "22          24   Mujer    30  Enfermero    España    28000\n",
       "23           6  Hombre    35  Enfermero    España    22000\n",
       "24          25   Mujer    34  Enfermero   Francia    30000\n",
       "25          29  Hombre    35  Enfermero   Francia    30000\n",
       "26          26  Hombre    38    Bombero    España    22000\n",
       "27          27   Mujer    32    Bombero  Portugal    26000\n",
       "28          16  Hombre    34    Bombero   Francia    30000\n",
       "29          28  Hombre    34    Bombero   Francia    30000"
      ]
     },
     "execution_count": 30,
     "metadata": {},
     "output_type": "execute_result"
    }
   ],
   "source": [
    "# Instancio la consulta\n",
    "mycursor_03.execute(query_empleos)\n",
    "\n",
    "# Asigno resultado a una variable\n",
    "resultado = mycursor_03.fetchall()\n",
    "\n",
    "# Guardo en un dataframe\n",
    "datos_empleo = pd.DataFrame(resultado)\n",
    "datos_empleo"
   ]
  },
  {
   "cell_type": "code",
   "execution_count": 31,
   "id": "south-chick",
   "metadata": {},
   "outputs": [],
   "source": [
    "# Cierro cursor\n",
    "mycursor_03.close()\n",
    "\n",
    "# Cierro conexión\n",
    "CNX.close()"
   ]
  },
  {
   "cell_type": "markdown",
   "id": "unexpected-isaac",
   "metadata": {},
   "source": [
    "## Nivell 3\n",
    "### - Exercici 3\n",
    "\n",
    "Genera algun gràfic que resumeixi les dades. \n",
    "\n",
    "\n"
   ]
  },
  {
   "cell_type": "markdown",
   "id": "unknown-stockholm",
   "metadata": {},
   "source": [
    "Veamos ahora algunas representaciones gráficas de este dataframe."
   ]
  },
  {
   "cell_type": "code",
   "execution_count": 32,
   "id": "worse-purse",
   "metadata": {},
   "outputs": [
    {
     "data": {
      "text/html": [
       "<div>\n",
       "<style scoped>\n",
       "    .dataframe tbody tr th:only-of-type {\n",
       "        vertical-align: middle;\n",
       "    }\n",
       "\n",
       "    .dataframe tbody tr th {\n",
       "        vertical-align: top;\n",
       "    }\n",
       "\n",
       "    .dataframe thead th {\n",
       "        text-align: right;\n",
       "    }\n",
       "</style>\n",
       "<table border=\"1\" class=\"dataframe\">\n",
       "  <thead>\n",
       "    <tr style=\"text-align: right;\">\n",
       "      <th></th>\n",
       "      <th>idPersonas</th>\n",
       "      <th>Sexo</th>\n",
       "      <th>Edad</th>\n",
       "      <th>Puesto</th>\n",
       "      <th>Pais</th>\n",
       "      <th>Salario</th>\n",
       "    </tr>\n",
       "  </thead>\n",
       "  <tbody>\n",
       "    <tr>\n",
       "      <th>0</th>\n",
       "      <td>1</td>\n",
       "      <td>Hombre</td>\n",
       "      <td>30</td>\n",
       "      <td>Profesor</td>\n",
       "      <td>España</td>\n",
       "      <td>24000</td>\n",
       "    </tr>\n",
       "    <tr>\n",
       "      <th>1</th>\n",
       "      <td>8</td>\n",
       "      <td>Hombre</td>\n",
       "      <td>46</td>\n",
       "      <td>Profesor</td>\n",
       "      <td>España</td>\n",
       "      <td>24000</td>\n",
       "    </tr>\n",
       "    <tr>\n",
       "      <th>2</th>\n",
       "      <td>7</td>\n",
       "      <td>Hombre</td>\n",
       "      <td>38</td>\n",
       "      <td>Profesor</td>\n",
       "      <td>España</td>\n",
       "      <td>28000</td>\n",
       "    </tr>\n",
       "    <tr>\n",
       "      <th>3</th>\n",
       "      <td>9</td>\n",
       "      <td>Hombre</td>\n",
       "      <td>41</td>\n",
       "      <td>Profesor</td>\n",
       "      <td>España</td>\n",
       "      <td>28000</td>\n",
       "    </tr>\n",
       "    <tr>\n",
       "      <th>4</th>\n",
       "      <td>2</td>\n",
       "      <td>Mujer</td>\n",
       "      <td>42</td>\n",
       "      <td>Médico</td>\n",
       "      <td>España</td>\n",
       "      <td>30000</td>\n",
       "    </tr>\n",
       "  </tbody>\n",
       "</table>\n",
       "</div>"
      ],
      "text/plain": [
       "   idPersonas    Sexo  Edad    Puesto    Pais  Salario\n",
       "0           1  Hombre    30  Profesor  España    24000\n",
       "1           8  Hombre    46  Profesor  España    24000\n",
       "2           7  Hombre    38  Profesor  España    28000\n",
       "3           9  Hombre    41  Profesor  España    28000\n",
       "4           2   Mujer    42    Médico  España    30000"
      ]
     },
     "execution_count": 32,
     "metadata": {},
     "output_type": "execute_result"
    }
   ],
   "source": [
    "datos_empleo.head()"
   ]
  },
  {
   "cell_type": "markdown",
   "id": "saving-coordination",
   "metadata": {},
   "source": [
    "Por ejemplo podemos analizar la diferencia de salarios entre hombre y mujeres por país."
   ]
  },
  {
   "cell_type": "code",
   "execution_count": 33,
   "id": "metallic-treaty",
   "metadata": {},
   "outputs": [
    {
     "data": {
      "image/png": "[encoded data removed]",
      "text/plain": [
       "<Figure size 432x288 with 1 Axes>"
      ]
     },
     "metadata": {
      "needs_background": "light"
     },
     "output_type": "display_data"
    }
   ],
   "source": [
    "# Salario medio por pais y sexo\n",
    "\n",
    "sns.barplot(data = datos_empleo,\n",
    "            x = 'Pais',\n",
    "            y = 'Salario',\n",
    "            hue = 'Sexo');"
   ]
  },
  {
   "cell_type": "markdown",
   "id": "helpful-anthony",
   "metadata": {},
   "source": [
    "O un gráfico de dispersión Edad - Salario."
   ]
  },
  {
   "cell_type": "code",
   "execution_count": 34,
   "id": "impossible-wilson",
   "metadata": {},
   "outputs": [
    {
     "data": {
      "image/png": "[encoded data removed]",
      "text/plain": [
       "<Figure size 432x288 with 1 Axes>"
      ]
     },
     "metadata": {
      "needs_background": "light"
     },
     "output_type": "display_data"
    }
   ],
   "source": [
    "# Edad vs Salario y pais\n",
    "\n",
    "sns.scatterplot(data = datos_empleo,\n",
    "                x = 'Edad',\n",
    "                y = 'Salario',\n",
    "                hue = 'Pais');"
   ]
  },
  {
   "cell_type": "markdown",
   "id": "dying-edition",
   "metadata": {},
   "source": [
    "O como son remuneradas las direntes profesiones por país.  "
   ]
  },
  {
   "cell_type": "code",
   "execution_count": 35,
   "id": "romantic-potential",
   "metadata": {},
   "outputs": [
    {
     "data": {
      "image/png": "[encoded data removed]",
      "text/plain": [
       "<Figure size 1080x360 with 3 Axes>"
      ]
     },
     "metadata": {
      "needs_background": "light"
     },
     "output_type": "display_data"
    }
   ],
   "source": [
    "# Salario vs Puesto\n",
    "\n",
    "sns.catplot(data = datos_empleo,\n",
    "            kind = 'bar',\n",
    "            x = 'Puesto',\n",
    "            y = 'Salario',\n",
    "            col = 'Pais',\n",
    "            col_wrap = 3);"
   ]
  },
  {
   "cell_type": "markdown",
   "id": "emotional-charity",
   "metadata": {},
   "source": [
    "Tan solo recordar que estos datos han sido creados para este ejercicio y no reflejan para nada la realidad. "
   ]
  },
  {
   "cell_type": "code",
   "execution_count": null,
   "id": "funky-thirty",
   "metadata": {},
   "outputs": [],
   "source": []
  }
 ],
 "metadata": {
  "kernelspec": {
   "display_name": "Python 3",
   "language": "python",
   "name": "python3"
  },
  "language_info": {
   "codemirror_mode": {
    "name": "ipython",
    "version": 3
   },
   "file_extension": ".py",
   "mimetype": "text/x-python",
   "name": "python",
   "nbconvert_exporter": "python",
   "pygments_lexer": "ipython3",
   "version": "3.8.5"
  }
 },
 "nbformat": 4,
 "nbformat_minor": 5
}
